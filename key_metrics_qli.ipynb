{
 "cells": [
  {
   "cell_type": "markdown",
   "metadata": {},
   "source": [
    "# Some useful metrics to quality of life"
   ]
  },
  {
   "cell_type": "markdown",
   "metadata": {},
   "source": [
    "### HDI Index [Data available]\n",
    "\n",
    "http://hdr.undp.org/en/data\n",
    "\n",
    "Published on 4 November 2010 (and updated on 10 June 2011), the 2010 Human Development Index (HDI) combines three dimensions:\n",
    "\n",
    "* A long and healthy life: Life expectancy at birth\n",
    "* Education index: Mean years of schooling and Expected years of schooling\n",
    "* A decent standard of living: GNI per capita (PPP US$)"
   ]
  },
  {
   "cell_type": "markdown",
   "metadata": {},
   "source": [
    "### Better Life Index (BLI) [Data available]\n",
    "\n",
    "http://stats.oecd.org/Index.aspx?DataSetCode=BLI"
   ]
  },
  {
   "cell_type": "markdown",
   "metadata": {},
   "source": [
    "### QLI Index\n",
    "\n",
    "https://en.wikipedia.org/wiki/Where-to-be-born_Index\n",
    "\n",
    "https://www.economist.com/media/pdf/QUALITY_OF_LIFE.pdf\n",
    "\n",
    "From \"where-to-be-born index\" (previously called the quality-of-life index, abbreviated QLI)\n",
    "\n",
    "* Material well-being as measured by GDP per capita (in $, at 2006 constant PPPS)\n",
    "* Life expectancy at birth\n",
    "* The quality of family life based primarily on divorce rates\n",
    "* The state of political freedoms\n",
    "* Job security (measured by the unemployment rate)\n",
    "* Climate (measured by two variables: the average deviation of minimum and maximum monthly temperatures from 14 * degrees Celsius; and the number of months in the year with less than 30mm rainfall)\n",
    "* Personal physical security ratings (based primarily on recorded homicide rates and ratings for risk from crime and terrorism)\n",
    "* Quality of community life (based on membership in social organisations)\n",
    "* Governance (measured by ratings for corruption)\n",
    "* Gender equality (measured by the share of seats in parliament held by women)"
   ]
  },
  {
   "cell_type": "markdown",
   "metadata": {},
   "source": [
    "### Others\n",
    "\n",
    "http://ec.europa.eu/eurostat/statistics-explained/index.php/Quality_of_life_indicators_-_measuring_quality_of_life"
   ]
  },
  {
   "cell_type": "code",
   "execution_count": null,
   "metadata": {},
   "outputs": [],
   "source": []
  }
 ],
 "metadata": {
  "kernelspec": {
   "display_name": "Python 3",
   "language": "python",
   "name": "python3"
  },
  "language_info": {
   "codemirror_mode": {
    "name": "ipython",
    "version": 3
   },
   "file_extension": ".py",
   "mimetype": "text/x-python",
   "name": "python",
   "nbconvert_exporter": "python",
   "pygments_lexer": "ipython3",
   "version": "3.6.1"
  }
 },
 "nbformat": 4,
 "nbformat_minor": 2
}
